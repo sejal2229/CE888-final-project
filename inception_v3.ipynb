{
  "nbformat": 4,
  "nbformat_minor": 0,
  "metadata": {
    "kernelspec": {
      "language": "python",
      "display_name": "Python 3",
      "name": "python3"
    },
    "language_info": {
      "name": "python",
      "version": "3.7.10",
      "mimetype": "text/x-python",
      "codemirror_mode": {
        "name": "ipython",
        "version": 3
      },
      "pygments_lexer": "ipython3",
      "nbconvert_exporter": "python",
      "file_extension": ".py"
    },
    "colab": {
      "name": "inception-v3.ipynb",
      "provenance": [],
      "include_colab_link": true
    }
  },
  "cells": [
    {
      "cell_type": "markdown",
      "metadata": {
        "id": "view-in-github",
        "colab_type": "text"
      },
      "source": [
        "<a href=\"https://colab.research.google.com/github/sejal2229/CE888-final-project/blob/main/inception_v3.ipynb\" target=\"_parent\"><img src=\"https://colab.research.google.com/assets/colab-badge.svg\" alt=\"Open In Colab\"/></a>"
      ]
    },
    {
      "cell_type": "code",
      "metadata": {
        "execution": {
          "iopub.status.busy": "2021-09-15T02:25:05.730170Z",
          "iopub.execute_input": "2021-09-15T02:25:05.730770Z",
          "iopub.status.idle": "2021-09-15T02:25:12.515503Z",
          "shell.execute_reply.started": "2021-09-15T02:25:05.730681Z",
          "shell.execute_reply": "2021-09-15T02:25:12.514739Z"
        },
        "trusted": true,
        "colab": {
          "base_uri": "https://localhost:8080/",
          "height": 367
        },
        "id": "pjcQLv4D_Qff",
        "outputId": "38205e88-af86-4226-edad-4997ba4ed4c2"
      },
      "source": [
        "import os\n",
        "from shutil import copyfile\n",
        "\n",
        "\n",
        "!git clone https://github.com/UCSD-AI4H/COVID-CT.git\n",
        "\n",
        "path='../input/lung-ct/CT_COVID/CT_COVID/'\n",
        "outpath = './'\n",
        "if (not os.path.exists(outpath+'LUNG_COVID/')):\n",
        "    os.mkdir(outpath+'LUNG_COVID/')\n",
        "    os.mkdir(outpath+'LUNG_COVID/CT_COVID/')\n",
        "    os.mkdir(outpath+'LUNG_COVID/CT_NonCOVID/')\n",
        "for count, filename in enumerate(os.listdir(path)): \n",
        "    dst =\"covid-\" + str(count) + \".png\"\n",
        "    src =path+ filename \n",
        "    dst =outpath+'LUNG_COVID/CT_COVID/'+ dst \n",
        "        \n",
        "    # rename() function will \n",
        "    # rename all the files \n",
        "    copyfile(src, dst)\n",
        "print(\"Covid Positive cases: \", count)\n",
        "\n",
        "path='../input/lung-ct/CT_NonCOVID/CT_NonCOVID/'\n",
        "for count, filename in enumerate(os.listdir(path)): \n",
        "    dst =\"noncovid-\" + str(count) + \".png\"\n",
        "    src =path+ filename \n",
        "    dst =outpath+'LUNG_COVID/CT_NonCOVID/'+ dst \n",
        "        \n",
        "    # rename() function will \n",
        "    # rename all the files \n",
        "    copyfile(src, dst)\n",
        "\n",
        "print(\"Covid Negative cases: \", count)"
      ],
      "execution_count": 2,
      "outputs": [
        {
          "output_type": "stream",
          "name": "stdout",
          "text": [
            "Cloning into 'COVID-CT'...\n",
            "remote: Enumerating objects: 5463, done.\u001b[K\n",
            "remote: Counting objects: 100% (4/4), done.\u001b[K\n",
            "remote: Compressing objects: 100% (4/4), done.\u001b[K\n",
            "remote: Total 5463 (delta 0), reused 0 (delta 0), pack-reused 5459\u001b[K\n",
            "Receiving objects: 100% (5463/5463), 1.09 GiB | 16.75 MiB/s, done.\n",
            "Resolving deltas: 100% (360/360), done.\n",
            "Checking out files: 100% (1048/1048), done.\n"
          ]
        },
        {
          "output_type": "error",
          "ename": "FileNotFoundError",
          "evalue": "ignored",
          "traceback": [
            "\u001b[0;31m---------------------------------------------------------------------------\u001b[0m",
            "\u001b[0;31mFileNotFoundError\u001b[0m                         Traceback (most recent call last)",
            "\u001b[0;32m<ipython-input-2-9e3f3cf55de7>\u001b[0m in \u001b[0;36m<module>\u001b[0;34m()\u001b[0m\n\u001b[1;32m     11\u001b[0m     \u001b[0mos\u001b[0m\u001b[0;34m.\u001b[0m\u001b[0mmkdir\u001b[0m\u001b[0;34m(\u001b[0m\u001b[0moutpath\u001b[0m\u001b[0;34m+\u001b[0m\u001b[0;34m'LUNG_COVID/CT_COVID/'\u001b[0m\u001b[0;34m)\u001b[0m\u001b[0;34m\u001b[0m\u001b[0;34m\u001b[0m\u001b[0m\n\u001b[1;32m     12\u001b[0m     \u001b[0mos\u001b[0m\u001b[0;34m.\u001b[0m\u001b[0mmkdir\u001b[0m\u001b[0;34m(\u001b[0m\u001b[0moutpath\u001b[0m\u001b[0;34m+\u001b[0m\u001b[0;34m'LUNG_COVID/CT_NonCOVID/'\u001b[0m\u001b[0;34m)\u001b[0m\u001b[0;34m\u001b[0m\u001b[0;34m\u001b[0m\u001b[0m\n\u001b[0;32m---> 13\u001b[0;31m \u001b[0;32mfor\u001b[0m \u001b[0mcount\u001b[0m\u001b[0;34m,\u001b[0m \u001b[0mfilename\u001b[0m \u001b[0;32min\u001b[0m \u001b[0menumerate\u001b[0m\u001b[0;34m(\u001b[0m\u001b[0mos\u001b[0m\u001b[0;34m.\u001b[0m\u001b[0mlistdir\u001b[0m\u001b[0;34m(\u001b[0m\u001b[0mpath\u001b[0m\u001b[0;34m)\u001b[0m\u001b[0;34m)\u001b[0m\u001b[0;34m:\u001b[0m\u001b[0;34m\u001b[0m\u001b[0;34m\u001b[0m\u001b[0m\n\u001b[0m\u001b[1;32m     14\u001b[0m     \u001b[0mdst\u001b[0m \u001b[0;34m=\u001b[0m\u001b[0;34m\"covid-\"\u001b[0m \u001b[0;34m+\u001b[0m \u001b[0mstr\u001b[0m\u001b[0;34m(\u001b[0m\u001b[0mcount\u001b[0m\u001b[0;34m)\u001b[0m \u001b[0;34m+\u001b[0m \u001b[0;34m\".png\"\u001b[0m\u001b[0;34m\u001b[0m\u001b[0;34m\u001b[0m\u001b[0m\n\u001b[1;32m     15\u001b[0m     \u001b[0msrc\u001b[0m \u001b[0;34m=\u001b[0m\u001b[0mpath\u001b[0m\u001b[0;34m+\u001b[0m \u001b[0mfilename\u001b[0m\u001b[0;34m\u001b[0m\u001b[0;34m\u001b[0m\u001b[0m\n",
            "\u001b[0;31mFileNotFoundError\u001b[0m: [Errno 2] No such file or directory: '../input/lung-ct/CT_COVID/CT_COVID/'"
          ]
        }
      ]
    },
    {
      "cell_type": "code",
      "metadata": {
        "execution": {
          "iopub.status.busy": "2021-09-15T02:25:12.517185Z",
          "iopub.execute_input": "2021-09-15T02:25:12.517532Z",
          "iopub.status.idle": "2021-09-15T02:25:12.522007Z",
          "shell.execute_reply.started": "2021-09-15T02:25:12.517494Z",
          "shell.execute_reply": "2021-09-15T02:25:12.521031Z"
        },
        "trusted": true,
        "id": "6PdWtC5h_Qfr"
      },
      "source": [
        "base_dir = './LUNG_COVID/data'\n",
        "if not os.path.exists(base_dir): os.mkdir(base_dir)"
      ],
      "execution_count": null,
      "outputs": []
    },
    {
      "cell_type": "code",
      "metadata": {
        "execution": {
          "iopub.status.busy": "2021-09-15T02:25:12.523404Z",
          "iopub.execute_input": "2021-09-15T02:25:12.523990Z",
          "iopub.status.idle": "2021-09-15T02:25:12.532685Z",
          "shell.execute_reply.started": "2021-09-15T02:25:12.523956Z",
          "shell.execute_reply": "2021-09-15T02:25:12.531966Z"
        },
        "trusted": true,
        "id": "_HUfo9ow_Qft"
      },
      "source": [
        "train_dir = os.path.join(base_dir, 'train')\n",
        "if not os.path.exists(train_dir): os.mkdir(train_dir)\n",
        "\n",
        "validation_dir = os.path.join(base_dir, 'validation')\n",
        "if not os.path.exists(validation_dir):os.mkdir(validation_dir)\n",
        "\n",
        "test_dir = os.path.join(base_dir, 'test')\n",
        "if not os.path.exists(test_dir):os.mkdir(test_dir)"
      ],
      "execution_count": null,
      "outputs": []
    },
    {
      "cell_type": "code",
      "metadata": {
        "execution": {
          "iopub.status.busy": "2021-09-15T02:25:12.535022Z",
          "iopub.execute_input": "2021-09-15T02:25:12.535284Z",
          "iopub.status.idle": "2021-09-15T02:25:12.708453Z",
          "shell.execute_reply.started": "2021-09-15T02:25:12.535252Z",
          "shell.execute_reply": "2021-09-15T02:25:12.707696Z"
        },
        "trusted": true,
        "id": "DuZWj_oT_Qfv"
      },
      "source": [
        "original_dataset_dir_covid = './LUNG_COVID/CT_COVID/'\n",
        "original_dataset_dir_non_covid = './LUNG_COVID/CT_NonCOVID/'\n",
        "\n",
        "import shutil\n",
        "fnames = ['covid-{}.png'.format(i) for i in range(250)]\n",
        "for fname in fnames:\n",
        "    src = os.path.join(original_dataset_dir_covid, fname)\n",
        "    dst = os.path.join(train_dir, fname)\n",
        "    print(src,dst)\n",
        "    shutil.copyfile(src, dst)\n",
        "    \n",
        "fnames = ['covid-{}.png'.format(i) for i in range(250, 300)]\n",
        "for fname in fnames:\n",
        "    src = os.path.join(original_dataset_dir_covid, fname)\n",
        "    dst = os.path.join(validation_dir, fname)\n",
        "    shutil.copyfile(src, dst)\n",
        "\n",
        "fnames = ['covid-{}.png'.format(i) for i in range(300, 348)]\n",
        "for fname in fnames:\n",
        "    src = os.path.join(original_dataset_dir_covid, fname)\n",
        "    dst = os.path.join(test_dir, fname)\n",
        "    shutil.copyfile(src, dst)"
      ],
      "execution_count": null,
      "outputs": []
    },
    {
      "cell_type": "code",
      "metadata": {
        "execution": {
          "iopub.status.busy": "2021-09-15T02:25:12.709756Z",
          "iopub.execute_input": "2021-09-15T02:25:12.710042Z",
          "iopub.status.idle": "2021-09-15T02:25:12.783298Z",
          "shell.execute_reply.started": "2021-09-15T02:25:12.710005Z",
          "shell.execute_reply": "2021-09-15T02:25:12.782611Z"
        },
        "trusted": true,
        "id": "OWQjQRRc_Qfy"
      },
      "source": [
        "fnames = ['noncovid-{}.png'.format(i) for i in range(250)]\n",
        "for fname in fnames:\n",
        "    src = os.path.join(original_dataset_dir_non_covid, fname)\n",
        "    dst = os.path.join(train_dir, fname)\n",
        "    shutil.copyfile(src, dst)\n",
        "\n",
        "fnames = ['noncovid-{}.png'.format(i) for i in range(250, 300)]\n",
        "for fname in fnames:\n",
        "    src = os.path.join(original_dataset_dir_non_covid, fname)\n",
        "    dst = os.path.join(validation_dir, fname)\n",
        "    shutil.copyfile(src, dst)\n",
        "\n",
        "fnames = ['noncovid-{}.png'.format(i) for i in range(300, 348)]\n",
        "for fname in fnames:\n",
        "    src = os.path.join(original_dataset_dir_non_covid, fname)\n",
        "    dst = os.path.join(test_dir, fname)\n",
        "    shutil.copyfile(src, dst)"
      ],
      "execution_count": null,
      "outputs": []
    },
    {
      "cell_type": "code",
      "metadata": {
        "execution": {
          "iopub.status.busy": "2021-09-15T02:25:12.784430Z",
          "iopub.execute_input": "2021-09-15T02:25:12.784849Z",
          "iopub.status.idle": "2021-09-15T02:25:12.927140Z",
          "shell.execute_reply.started": "2021-09-15T02:25:12.784812Z",
          "shell.execute_reply": "2021-09-15T02:25:12.926402Z"
        },
        "trusted": true,
        "id": "dZ-9Cies_Qf5"
      },
      "source": [
        "import cv2\n",
        "import numpy as np\n",
        "from random import shuffle\n",
        "\n",
        "IMG_SIZE = 224\n",
        "LR = 1e-4"
      ],
      "execution_count": null,
      "outputs": []
    },
    {
      "cell_type": "code",
      "metadata": {
        "execution": {
          "iopub.status.busy": "2021-09-15T02:25:12.928537Z",
          "iopub.execute_input": "2021-09-15T02:25:12.928816Z",
          "iopub.status.idle": "2021-09-15T02:25:12.934218Z",
          "shell.execute_reply.started": "2021-09-15T02:25:12.928783Z",
          "shell.execute_reply": "2021-09-15T02:25:12.933176Z"
        },
        "trusted": true,
        "id": "VkI0nVg__Qf6"
      },
      "source": [
        "def label_img(img):\n",
        "    word_label = img.split('-')[0]\n",
        "    if word_label == 'covid': return 1\n",
        "    elif word_label == 'noncovid': return 0"
      ],
      "execution_count": null,
      "outputs": []
    },
    {
      "cell_type": "code",
      "metadata": {
        "execution": {
          "iopub.status.busy": "2021-09-15T02:25:12.935709Z",
          "iopub.execute_input": "2021-09-15T02:25:12.936096Z",
          "iopub.status.idle": "2021-09-15T02:25:12.944848Z",
          "shell.execute_reply.started": "2021-09-15T02:25:12.936057Z",
          "shell.execute_reply": "2021-09-15T02:25:12.944144Z"
        },
        "trusted": true,
        "id": "VTvdhwLh_Qf7"
      },
      "source": [
        "\n",
        "def createDataSplitSet(datapath):\n",
        "    X=[]\n",
        "    y=[]\n",
        "\n",
        "    for img in os.listdir(datapath):\n",
        "        label = label_img(img)\n",
        "        path = os.path.join(datapath, img)\n",
        "        image = cv2.resize(cv2.imread(path), (IMG_SIZE, IMG_SIZE))\n",
        "        image = cv2.normalize(image, None, alpha=0, beta=1, norm_type=cv2.NORM_MINMAX, dtype=cv2.CV_32F)\n",
        "\n",
        "        X.append(np.array(image))\n",
        "        y.append(label)\n",
        "\n",
        "    return np.array(X), np.array(y)"
      ],
      "execution_count": null,
      "outputs": []
    },
    {
      "cell_type": "code",
      "metadata": {
        "execution": {
          "iopub.status.busy": "2021-09-15T02:25:12.946844Z",
          "iopub.execute_input": "2021-09-15T02:25:12.947128Z",
          "iopub.status.idle": "2021-09-15T02:25:15.759475Z",
          "shell.execute_reply.started": "2021-09-15T02:25:12.947086Z",
          "shell.execute_reply": "2021-09-15T02:25:15.758566Z"
        },
        "trusted": true,
        "id": "70vW-nc0_Qf9"
      },
      "source": [
        "train_X, train_y = createDataSplitSet(train_dir)\n",
        "val_X, val_y = createDataSplitSet(validation_dir)\n",
        "test_X, test_y = createDataSplitSet(test_dir)\n",
        "print(train_X.shape)\n",
        "print(val_X.shape)\n",
        "print(test_X.shape)"
      ],
      "execution_count": null,
      "outputs": []
    },
    {
      "cell_type": "code",
      "metadata": {
        "execution": {
          "iopub.status.busy": "2021-09-15T02:25:15.762387Z",
          "iopub.execute_input": "2021-09-15T02:25:15.762650Z",
          "iopub.status.idle": "2021-09-15T02:25:20.164789Z",
          "shell.execute_reply.started": "2021-09-15T02:25:15.762615Z",
          "shell.execute_reply": "2021-09-15T02:25:20.164034Z"
        },
        "trusted": true,
        "id": "IQuEeKQ3_QgE"
      },
      "source": [
        "from tensorflow.keras.applications.inception_v3 import InceptionV3\n",
        "from tensorflow.keras.layers import Dense, Input, Flatten\n",
        "from tensorflow.keras import Model\n",
        "from tensorflow.keras.layers import Dense, GlobalAveragePooling2D\n",
        "\n",
        "img_input = Input(shape=(IMG_SIZE, IMG_SIZE, 3))"
      ],
      "execution_count": null,
      "outputs": []
    },
    {
      "cell_type": "code",
      "metadata": {
        "execution": {
          "iopub.status.busy": "2021-09-15T02:25:20.168170Z",
          "iopub.execute_input": "2021-09-15T02:25:20.168380Z",
          "iopub.status.idle": "2021-09-15T02:25:24.790336Z",
          "shell.execute_reply.started": "2021-09-15T02:25:20.168354Z",
          "shell.execute_reply": "2021-09-15T02:25:24.788689Z"
        },
        "trusted": true,
        "id": "XPbIUucv_QgF"
      },
      "source": [
        "base_model = InceptionV3(weights='imagenet', include_top=False)\n",
        "base_model.summary()"
      ],
      "execution_count": null,
      "outputs": []
    },
    {
      "cell_type": "code",
      "metadata": {
        "execution": {
          "iopub.status.busy": "2021-09-15T02:25:24.791444Z",
          "iopub.execute_input": "2021-09-15T02:25:24.791704Z",
          "iopub.status.idle": "2021-09-15T02:25:24.836703Z",
          "shell.execute_reply.started": "2021-09-15T02:25:24.791673Z",
          "shell.execute_reply": "2021-09-15T02:25:24.836002Z"
        },
        "trusted": true,
        "id": "pgxrGIZK_QgG"
      },
      "source": [
        "x = base_model.output\n",
        "x = GlobalAveragePooling2D()(x)\n",
        "# let's add a fully-connected layer\n",
        "x = Dense(1024, activation='relu')(x)\n",
        "# and a logistic layer -- let's say we have 200 classes\n",
        "predictions = Dense(1, activation='sigmoid')(x)\n",
        "\n",
        "model = Model(inputs=base_model.input, outputs=predictions)"
      ],
      "execution_count": null,
      "outputs": []
    },
    {
      "cell_type": "code",
      "metadata": {
        "execution": {
          "iopub.status.busy": "2021-09-15T02:25:24.837848Z",
          "iopub.execute_input": "2021-09-15T02:25:24.838504Z",
          "iopub.status.idle": "2021-09-15T02:25:24.852086Z",
          "shell.execute_reply.started": "2021-09-15T02:25:24.838466Z",
          "shell.execute_reply": "2021-09-15T02:25:24.851296Z"
        },
        "trusted": true,
        "id": "780Gptr0_QgH"
      },
      "source": [
        "for layer in base_model.layers:\n",
        "    layer.trainable = False"
      ],
      "execution_count": null,
      "outputs": []
    },
    {
      "cell_type": "code",
      "metadata": {
        "execution": {
          "iopub.status.busy": "2021-09-15T02:25:24.853388Z",
          "iopub.execute_input": "2021-09-15T02:25:24.853655Z",
          "iopub.status.idle": "2021-09-15T02:25:25.040298Z",
          "shell.execute_reply.started": "2021-09-15T02:25:24.853622Z",
          "shell.execute_reply": "2021-09-15T02:25:25.039282Z"
        },
        "trusted": true,
        "id": "uPA2rLh2_QgI"
      },
      "source": [
        "model.compile(loss='binary_crossentropy',\n",
        "              optimizer='adam',\n",
        "              metrics=['acc'])"
      ],
      "execution_count": null,
      "outputs": []
    },
    {
      "cell_type": "code",
      "metadata": {
        "execution": {
          "iopub.status.busy": "2021-09-15T02:25:25.041513Z",
          "iopub.execute_input": "2021-09-15T02:25:25.041762Z",
          "iopub.status.idle": "2021-09-15T02:25:25.047325Z",
          "shell.execute_reply.started": "2021-09-15T02:25:25.041729Z",
          "shell.execute_reply": "2021-09-15T02:25:25.046644Z"
        },
        "trusted": true,
        "id": "by7kfYsa_QgJ"
      },
      "source": [
        "from tensorflow.keras.callbacks import EarlyStopping, ModelCheckpoint\n",
        "my_callbacks = [\n",
        "    EarlyStopping(monitor=\"val_loss\", patience=5, restore_best_weights=True),\n",
        "    ModelCheckpoint(filepath='incep_model.h5', save_best_only=True),\n",
        "]"
      ],
      "execution_count": null,
      "outputs": []
    },
    {
      "cell_type": "code",
      "metadata": {
        "execution": {
          "iopub.status.busy": "2021-09-15T02:25:25.048914Z",
          "iopub.execute_input": "2021-09-15T02:25:25.049417Z",
          "iopub.status.idle": "2021-09-15T02:25:52.684495Z",
          "shell.execute_reply.started": "2021-09-15T02:25:25.049382Z",
          "shell.execute_reply": "2021-09-15T02:25:52.683697Z"
        },
        "trusted": true,
        "id": "dNT3JhE2_QgK"
      },
      "source": [
        "history = model.fit(train_X, train_y,\n",
        "                              batch_size=20,\n",
        "                              epochs=300, \n",
        "                              validation_data=(val_X, val_y),\n",
        "                              callbacks=my_callbacks)"
      ],
      "execution_count": null,
      "outputs": []
    },
    {
      "cell_type": "code",
      "metadata": {
        "execution": {
          "iopub.status.busy": "2021-09-15T02:26:03.717738Z",
          "iopub.execute_input": "2021-09-15T02:26:03.718044Z",
          "iopub.status.idle": "2021-09-15T02:26:04.182546Z",
          "shell.execute_reply.started": "2021-09-15T02:26:03.718013Z",
          "shell.execute_reply": "2021-09-15T02:26:04.181771Z"
        },
        "trusted": true,
        "id": "BJSDBTxe_QgK"
      },
      "source": [
        "import matplotlib.pyplot as plt\n",
        "\n",
        "acc = history.history['acc']\n",
        "val_acc = history.history['val_acc']\n",
        "loss = history.history['loss']\n",
        "val_loss = history.history['val_loss']\n",
        "\n",
        "epochs = range(1, len(acc) + 1)\n",
        "\n",
        "plt.plot(epochs, acc, 'bo', label='Training acc')\n",
        "plt.plot(epochs, val_acc, 'b', label='Validation acc')\n",
        "plt.title('Training and validation accuracy')\n",
        "plt.legend()\n",
        "\n",
        "plt.figure()\n",
        "\n",
        "plt.plot(epochs, loss, 'bo', label='Training loss')\n",
        "plt.plot(epochs, val_loss, 'b', label='Validation loss')\n",
        "plt.title('Training and validation loss')\n",
        "plt.legend()\n",
        "\n",
        "plt.show()"
      ],
      "execution_count": null,
      "outputs": []
    },
    {
      "cell_type": "code",
      "metadata": {
        "execution": {
          "iopub.status.busy": "2021-09-15T02:26:15.199486Z",
          "iopub.execute_input": "2021-09-15T02:26:15.199771Z",
          "iopub.status.idle": "2021-09-15T02:26:17.817828Z",
          "shell.execute_reply.started": "2021-09-15T02:26:15.199738Z",
          "shell.execute_reply": "2021-09-15T02:26:17.817051Z"
        },
        "trusted": true,
        "id": "0fP2CXuL_QgL"
      },
      "source": [
        "\n",
        "from sklearn.metrics import accuracy_score\n",
        "\n",
        "## Test Accuracy\n",
        "predictions = model.predict(test_X)\n",
        "ypred = predictions > 0.5\n",
        "test_acc = accuracy_score(test_y, ypred)\n",
        "\n",
        "from sklearn.metrics import precision_recall_fscore_support, roc_auc_score\n",
        "\n",
        "precision, recall, f1score, _ = precision_recall_fscore_support(test_y, ypred, average='binary')\n",
        "\n",
        "auc = roc_auc_score(test_y, ypred)\n",
        "\n",
        "print(\"Train Accuracy:\\t\", acc[-1])\n",
        "print(\"Val Accuracy:\\t\", val_acc[-1])\n",
        "print(\"Test Accuracy:\\t\", test_acc)\n",
        "print(\"Precision:\\t\", precision)\n",
        "print(\"Recall:\\t\\t\", recall)\n",
        "print(\"F1 Score:\\t\", f1score)\n",
        "print(\"AUC:\\t\\t\", auc)\n"
      ],
      "execution_count": null,
      "outputs": []
    },
    {
      "cell_type": "code",
      "metadata": {
        "id": "uIkTpjOJ_QgM"
      },
      "source": [
        ""
      ],
      "execution_count": null,
      "outputs": []
    }
  ]
}